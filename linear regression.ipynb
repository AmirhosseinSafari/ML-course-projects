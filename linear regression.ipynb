{
  "nbformat": 4,
  "nbformat_minor": 0,
  "metadata": {
    "colab": {
      "provenance": []
    },
    "kernelspec": {
      "name": "python3",
      "display_name": "Python 3"
    },
    "language_info": {
      "name": "python"
    }
  },
  "cells": [
    {
      "cell_type": "code",
      "execution_count": 156,
      "metadata": {
        "id": "KiFvrB5cvX4o"
      },
      "outputs": [],
      "source": [
        "import matplotlib.pyplot as plt\n",
        "import numpy as np\n",
        "from sklearn import datasets, linear_model\n",
        "from sklearn.metrics import mean_squared_error, r2_score\n",
        "import random"
      ]
    },
    {
      "cell_type": "code",
      "source": [
        "x_train=np.sort(np.array(random.sample(range(1, 100), 15)))\n",
        "x_train=x_train[:,np.newaxis]\n",
        "print(f\"x_train: \\n{x_train} \\n\")\n",
        "x_train=x_train/100\n",
        "y_train=-0.3+0.5*np.sin(x_train*np.pi*2)\n",
        "print(f\"y_train: \\n{y_train} \\n\")"
      ],
      "metadata": {
        "colab": {
          "base_uri": "https://localhost:8080/"
        },
        "id": "XXRNOzK3vaz8",
        "outputId": "09ee39f7-5659-4b18-ff5e-b1cdbee0db27"
      },
      "execution_count": 157,
      "outputs": [
        {
          "output_type": "stream",
          "name": "stdout",
          "text": [
            "x_train: \n",
            "[[ 1]\n",
            " [ 2]\n",
            " [ 9]\n",
            " [10]\n",
            " [15]\n",
            " [16]\n",
            " [17]\n",
            " [25]\n",
            " [28]\n",
            " [39]\n",
            " [52]\n",
            " [55]\n",
            " [63]\n",
            " [79]\n",
            " [82]] \n",
            "\n",
            "y_train: \n",
            "[[-0.26860474]\n",
            " [-0.23733338]\n",
            " [-0.0320866 ]\n",
            " [-0.00610737]\n",
            " [ 0.1045085 ]\n",
            " [ 0.12216396]\n",
            " [ 0.13815334]\n",
            " [ 0.2       ]\n",
            " [ 0.19114363]\n",
            " [ 0.01871199]\n",
            " [-0.36266662]\n",
            " [-0.4545085 ]\n",
            " [-0.66448431]\n",
            " [-0.78429158]\n",
            " [-0.75241353]] \n",
            "\n"
          ]
        }
      ]
    },
    {
      "cell_type": "code",
      "source": [
        "x_test=np.sort(np.array(random.sample(range(1, 100), 99)))\n",
        "x_test=x_test[:,np.newaxis]\n",
        "x_test=x_test/100\n",
        "y_test=-0.3+0.5*np.sin(x_test*np.pi*2)\n",
        "landa=0.001\n",
        "\n",
        "# phi_train=np.concatenate((np.ones((len(x_train),1)),x_train, np.power(x_train,2)), axis=1)\n",
        "# phi_train=np.concatenate((np.ones((len(x_train),1)),x_train, np.power(x_train,2),np.power(x_train,3)), axis=1)\n",
        "# phi_train=np.concatenate((np.ones((len(x_train),1)),x_train, np.power(x_train,2)\n",
        "              #  ,np.power(x_train,3), np.power(x_train,5)),axis=1)\n",
        "# phi_train=np.concatenate((np.ones((len(x_train),1)),x_train, np.power(x_train,2)\n",
        "              # ,np.power(x_train,3), np.power(x_train,5),np.power(x_train,7)),axis=1)\n",
        "# phi_train=np.concatenate((np.ones((len(x_train),1)),x_train, np.power(x_train,2)\n",
        "              # ,np.power(x_train,3),np.power(x_train,5),np.power(x_train,7),np.power(x_train,9)), axis=1)\n",
        "phi_train=np.concatenate((np.ones((len(x_train),1)),x_train, np.power(x_train,2)\n",
        "              ,np.power(x_train,3),np.power(x_train,5),np.power(x_train,7),np.power(x_train,9),np.power(x_train,11)), axis=1)\n"
      ],
      "metadata": {
        "id": "-uo568uwvc3k"
      },
      "execution_count": 158,
      "outputs": []
    },
    {
      "cell_type": "code",
      "source": [
        "# Training Step\n",
        "weight=np.matmul(np.matmul(np.linalg.inv(np.matmul(np.transpose(phi_train),phi_train)),np.transpose(phi_train)),y_train)\t"
      ],
      "metadata": {
        "id": "RmhjwEOXvh5T"
      },
      "execution_count": 159,
      "outputs": []
    },
    {
      "cell_type": "code",
      "source": [
        "# Test Phase\n",
        "# phi_test=np.concatenate((np.ones((len(x_test),1)),x_test,np.power(x_test,2)),axis=1)\n",
        "# phi_test=np.concatenate((np.ones((len(x_test),1)),x_test,np.power(x_test,2),np.power(x_test,3)),axis=1)\n",
        "# phi_test=np.concatenate((np.ones((len(x_test),1)),x_test,np.power(x_test,2)\n",
        "                # ,np.power(x_test,3), np.power(x_test,5)),axis=1)\n",
        "# phi_test=np.concatenate((np.ones((len(x_test),1)),x_test,np.power(x_test,2)\n",
        "                # ,np.power(x_test,3), np.power(x_test,5),np.power(x_test,7)),axis=1)\n",
        "# phi_test=np.concatenate((np.ones((len(x_test),1)),x_test,np.power(x_test,2)\n",
        "                # ,np.power(x_test,3), np.power(x_test,5),np.power(x_test,7),np.power(x_test,9)),axis=1)\n",
        "phi_test=np.concatenate((np.ones((len(x_test),1)),x_test,np.power(x_test,2)\n",
        "                ,np.power(x_test,3), np.power(x_test,5),np.power(x_test,7),np.power(x_test,9),np.power(x_test,11)),axis=1)\n",
        "\n",
        "y_pred = np.matmul(phi_test,weight)\n"
      ],
      "metadata": {
        "id": "1yPsRAR-vihY"
      },
      "execution_count": 160,
      "outputs": []
    },
    {
      "cell_type": "code",
      "source": [
        "# Explained variance score: 1 is perfect prediction\n",
        "print(len(x_train))\n",
        "print(len(x_test))\n",
        "# Plot outputs\n",
        "\n",
        "plt.scatter(x_train, y_train,  color='black')\n",
        "#plt.scatter(x_test, y_pred, color='blue')\n",
        "plt.plot(x_test, y_pred, color='blue',linewidth=3)\n",
        "plt.plot(x_test, y_test, color='green')\n",
        "\n",
        "plt.show()"
      ],
      "metadata": {
        "colab": {
          "base_uri": "https://localhost:8080/",
          "height": 300
        },
        "id": "Xed5SRwOvkz4",
        "outputId": "1334bbf8-83db-4675-b47d-4330bf0fc3e9"
      },
      "execution_count": 161,
      "outputs": [
        {
          "output_type": "stream",
          "name": "stdout",
          "text": [
            "15\n",
            "99\n"
          ]
        },
        {
          "output_type": "display_data",
          "data": {
            "text/plain": [
              "<Figure size 432x288 with 1 Axes>"
            ],
            "image/png": "[encoded data removed]"
          },
          "metadata": {
            "needs_background": "light"
          }
        }
      ]
    }
  ]
}